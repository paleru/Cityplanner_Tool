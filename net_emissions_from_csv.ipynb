{
 "cells": [
  {
   "cell_type": "code",
   "execution_count": 41,
   "metadata": {},
   "outputs": [],
   "source": [
    "import pandas as pd\n",
    "import dataframe_helper as dh"
   ]
  },
  {
   "cell_type": "code",
   "execution_count": 42,
   "metadata": {},
   "outputs": [],
   "source": [
    "def get_df_from_csv():\n",
    "    return pd.read_csv('cities.csv')"
   ]
  },
  {
   "cell_type": "code",
   "execution_count": 43,
   "metadata": {},
   "outputs": [
    {
     "data": {
      "text/plain": [
       "region_id                          int64\n",
       "city_id                            int64\n",
       "region_name                       object\n",
       "city_name                         object\n",
       "net_forest_emissions_01_to_23    float64\n",
       "dtype: object"
      ]
     },
     "execution_count": 43,
     "metadata": {},
     "output_type": "execute_result"
    }
   ],
   "source": [
    "cities_df = get_df_from_csv()   \n",
    "cities_df.dtypes    "
   ]
  },
  {
   "cell_type": "code",
   "execution_count": 44,
   "metadata": {},
   "outputs": [],
   "source": [
    "def clean_df(df):\n",
    "    df['region'] = df['region_name'].apply(dh.replace_special_chars)\n",
    "    df['city'] = df['city_name'].apply(dh.replace_special_chars)\n",
    "    df['average_net_emissions'] = df['net_forest_emissions_01_to_23'] / 22\n",
    "    df['average_net_emissions'] = df['average_net_emissions'].round(1)\n",
    "    return df"
   ]
  },
  {
   "cell_type": "code",
   "execution_count": 45,
   "metadata": {},
   "outputs": [],
   "source": [
    "cleaned_cities_df = clean_df(cities_df)\n",
    "cleaned_cities_df.to_csv('data/net_emissions/swedish_cities_forest_net_emissions.csv', index=False)"
   ]
  }
 ],
 "metadata": {
  "kernelspec": {
   "display_name": "cpt-venv",
   "language": "python",
   "name": "python3"
  },
  "language_info": {
   "codemirror_mode": {
    "name": "ipython",
    "version": 3
   },
   "file_extension": ".py",
   "mimetype": "text/x-python",
   "name": "python",
   "nbconvert_exporter": "python",
   "pygments_lexer": "ipython3",
   "version": "3.12.6"
  }
 },
 "nbformat": 4,
 "nbformat_minor": 2
}
